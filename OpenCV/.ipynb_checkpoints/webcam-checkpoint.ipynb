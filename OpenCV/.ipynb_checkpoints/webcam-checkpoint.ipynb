{
 "cells": [
  {
   "cell_type": "code",
   "execution_count": null,
   "metadata": {
    "collapsed": true
   },
   "outputs": [],
   "source": [
    "import numpy as np\n",
    "import cv2\n",
    "\n",
    "cap = cv2.VideoCapture(0)\n",
    "\n",
    "\n",
    "while 1:\n",
    "    ret, img = cap.read()\n",
    "    \n",
    "    imgray = cv2.cvtColor(img,cv2.COLOR_BGR2GRAY) \n",
    "    \n",
    "    ret,thresh = cv2.threshold(imgray,200,255,0)\n",
    "    \n",
    "    image, contours, hierarchy = cv2.findContours(thresh,cv2.RETR_TREE,cv2.CHAIN_APPROX_SIMPLE)\n",
    "\n",
    "\n",
    "\n",
    "    #Все контуры\n",
    "    #cnt = contours\n",
    "    #cv2.drawContours(img,cnt,-1,(255,0,0),2)\n",
    "\n",
    "\n",
    "\n",
    "\n",
    "    # а тут последний как я понимаю\n",
    "    if len(contours) > 0:\n",
    "        cnt = contours[len(contours)-1]\n",
    "        x,y,w,h = cv2.boundingRect(cnt)\n",
    "        cv2.rectangle(img,(x-25,y-25),(x+w+25,y+h+25),(0,0,255),1)\n",
    "\n",
    "\n",
    "        crop_img = img[y: y + h, x: x + w] # Crop from x, y, w, h -> 100, 200, 300, 400\n",
    "        # NOTE: its img[y: y + h, x: x + w] and *not* img[x: x + w, y: y + h]\n",
    "        \n",
    "        cv2.putText(img,'3',(x,y-30), font, 1,(0,255,0),1,cv2.LINE_AA)\n",
    "          \n",
    "        imgray = cv2.cvtColor(crop_img, cv2.COLOR_BGR2GRAY)\n",
    "        \n",
    "        ret,thresh2 = cv2.threshold(imgray,127,255,cv2.THRESH_BINARY_INV)\n",
    "        \n",
    "        #cv2.imshow(\"cropped\", thresh2)\n",
    "        \n",
    "        # Изменяем размер на 28*28\n",
    "        res = cv2.resize(thresh2,(28, 28))\n",
    "        cv2.imshow(\"res\", res)\n",
    "\n",
    "    \n",
    "    cv2.imshow('img', img)\n",
    "    cv2.imshow('img1', thresh)\n",
    "    \n",
    "    k = cv2.waitKey(30) & 0xff\n",
    "    if k == 27:\n",
    "        break\n",
    "\n",
    "cap.release()\n",
    "cv2.destroyAllWindows()"
   ]
  }
 ],
 "metadata": {
  "anaconda-cloud": {},
  "kernelspec": {
   "display_name": "Python 3",
   "language": "python",
   "name": "python3"
  },
  "language_info": {
   "codemirror_mode": {
    "name": "ipython",
    "version": 3
   },
   "file_extension": ".py",
   "mimetype": "text/x-python",
   "name": "python",
   "nbconvert_exporter": "python",
   "pygments_lexer": "ipython3",
   "version": "3.5.2"
  }
 },
 "nbformat": 4,
 "nbformat_minor": 1
}
